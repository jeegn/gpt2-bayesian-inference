{
 "cells": [
  {
   "cell_type": "code",
   "execution_count": 36,
   "id": "21183f9f",
   "metadata": {},
   "outputs": [],
   "source": [
    "import torch\n",
    "import numpy as np\n",
    "from torch.utils.data import DataLoader\n",
    "from transformers import GPT2Tokenizer, GPT2ForSequenceClassification\n",
    "from datasets import load_dataset\n",
    "from sklearn.metrics import (\n",
    "    accuracy_score, hamming_loss,\n",
    "    f1_score, roc_auc_score, log_loss, brier_score_loss\n",
    ")\n",
    "from tqdm.auto import tqdm"
   ]
  },
  {
   "cell_type": "code",
   "execution_count": 3,
   "id": "d9706dca",
   "metadata": {},
   "outputs": [
    {
     "data": {
      "application/vnd.jupyter.widget-view+json": {
       "model_id": "b5c2641e209c4113ab2726d800f3c831",
       "version_major": 2,
       "version_minor": 0
      },
      "text/plain": [
       "tokenizer_config.json:   0%|          | 0.00/303 [00:00<?, ?B/s]"
      ]
     },
     "metadata": {},
     "output_type": "display_data"
    },
    {
     "data": {
      "application/vnd.jupyter.widget-view+json": {
       "model_id": "287fa1ad83394167addab5cc013b1ec5",
       "version_major": 2,
       "version_minor": 0
      },
      "text/plain": [
       "vocab.json:   0%|          | 0.00/798k [00:00<?, ?B/s]"
      ]
     },
     "metadata": {},
     "output_type": "display_data"
    },
    {
     "data": {
      "application/vnd.jupyter.widget-view+json": {
       "model_id": "99421cef7054412483d17c3f9814b892",
       "version_major": 2,
       "version_minor": 0
      },
      "text/plain": [
       "merges.txt:   0%|          | 0.00/456k [00:00<?, ?B/s]"
      ]
     },
     "metadata": {},
     "output_type": "display_data"
    },
    {
     "data": {
      "application/vnd.jupyter.widget-view+json": {
       "model_id": "0e60de24d9234e46bb8a945398f8ecb1",
       "version_major": 2,
       "version_minor": 0
      },
      "text/plain": [
       "special_tokens_map.json:   0%|          | 0.00/131 [00:00<?, ?B/s]"
      ]
     },
     "metadata": {},
     "output_type": "display_data"
    },
    {
     "data": {
      "application/vnd.jupyter.widget-view+json": {
       "model_id": "c4579e1c77da4832904228f4d81fd1fd",
       "version_major": 2,
       "version_minor": 0
      },
      "text/plain": [
       "tokenizer.json:   0%|          | 0.00/2.11M [00:00<?, ?B/s]"
      ]
     },
     "metadata": {},
     "output_type": "display_data"
    },
    {
     "data": {
      "application/vnd.jupyter.widget-view+json": {
       "model_id": "406e342964c0448da9a848aebf1b47d1",
       "version_major": 2,
       "version_minor": 0
      },
      "text/plain": [
       "config.json:   0%|          | 0.00/2.29k [00:00<?, ?B/s]"
      ]
     },
     "metadata": {},
     "output_type": "display_data"
    },
    {
     "data": {
      "application/vnd.jupyter.widget-view+json": {
       "model_id": "b02430a5f5b2408686a831c1f5a00a0f",
       "version_major": 2,
       "version_minor": 0
      },
      "text/plain": [
       "pytorch_model.bin:   0%|          | 0.00/510M [00:00<?, ?B/s]"
      ]
     },
     "metadata": {},
     "output_type": "display_data"
    },
    {
     "data": {
      "application/vnd.jupyter.widget-view+json": {
       "model_id": "6c3c44ef899b41c9a0f2b2d966cbe6fd",
       "version_major": 2,
       "version_minor": 0
      },
      "text/plain": [
       "model.safetensors:   0%|          | 0.00/510M [00:00<?, ?B/s]"
      ]
     },
     "metadata": {},
     "output_type": "display_data"
    }
   ],
   "source": [
    "# 1. Load model & tokenizer\n",
    "model_name = \"tingtone/go_emo_gpt\"  # replace if different\n",
    "tokenizer = GPT2Tokenizer.from_pretrained(model_name)\n",
    "model = GPT2ForSequenceClassification.from_pretrained(model_name)"
   ]
  },
  {
   "cell_type": "code",
   "execution_count": 4,
   "id": "34e61cd0",
   "metadata": {},
   "outputs": [],
   "source": [
    "# GPT-2 has no pad token by default—set it to eos_token\n",
    "tokenizer.pad_token = tokenizer.eos_token\n",
    "model.config.pad_token_id = tokenizer.eos_token_id"
   ]
  },
  {
   "cell_type": "code",
   "execution_count": 6,
   "id": "5f65371e",
   "metadata": {},
   "outputs": [
    {
     "name": "stdout",
     "output_type": "stream",
     "text": [
      "Using device: mps\n"
     ]
    }
   ],
   "source": [
    "device = \"cuda\" if torch.cuda.is_available() else \"mps\"\n",
    "model.to(device).eval()\n",
    "print(f\"Using device: {device}\")"
   ]
  },
  {
   "cell_type": "code",
   "execution_count": 15,
   "id": "fdab95e8",
   "metadata": {},
   "outputs": [
    {
     "name": "stdout",
     "output_type": "stream",
     "text": [
      "Number of labels: 28\n"
     ]
    },
    {
     "data": {
      "application/vnd.jupyter.widget-view+json": {
       "model_id": "def5cc0be1b348e0918d750f977dbdeb",
       "version_major": 2,
       "version_minor": 0
      },
      "text/plain": [
       "Map:   0%|          | 0/5427 [00:00<?, ? examples/s]"
      ]
     },
     "metadata": {},
     "output_type": "display_data"
    }
   ],
   "source": [
    "# 2. Load and preprocess GoEmotions test set\n",
    "dataset = load_dataset(\"go_emotions\")\n",
    "test_ds = dataset[\"test\"]\n",
    "num_labels = dataset[\"train\"].features[\"labels\"].feature.num_classes  # => 28\n",
    "print(f\"Number of labels: {num_labels}\")\n",
    "def preprocess(batch):\n",
    "    toks = tokenizer(batch[\"text\"],\n",
    "                     truncation=True,\n",
    "                     padding=\"max_length\",\n",
    "                     max_length=1024,\n",
    "                     return_tensors=\"pt\")\n",
    "    # build multi‑hot labels\n",
    "    mh = np.zeros((len(batch[\"labels\"]), num_labels), dtype=np.int8)\n",
    "    for i, lab_indices in enumerate(batch[\"labels\"]):\n",
    "        mh[i, lab_indices] = 1.0\n",
    "\n",
    "    toks[\"labels\"] = torch.from_numpy(mh)\n",
    "    return toks\n",
    "\n",
    "test_ds = test_ds.map(preprocess, batched=True, remove_columns=test_ds.column_names)\n",
    "test_ds.set_format(type=\"torch\", columns=[\"input_ids\",\"attention_mask\",\"labels\"])\n",
    "# ——— SUBSAMPLE 500 RANDOM EXAMPLES ———\n"
   ]
  },
  {
   "cell_type": "code",
   "execution_count": 16,
   "id": "2c0d438e",
   "metadata": {},
   "outputs": [],
   "source": [
    "test_ds = test_ds.shuffle(seed=42).select(range(32))\n",
    "dataloader = DataLoader(test_ds, batch_size=32)"
   ]
  },
  {
   "cell_type": "code",
   "execution_count": 33,
   "id": "c35d7431",
   "metadata": {},
   "outputs": [
    {
     "data": {
      "application/vnd.jupyter.widget-view+json": {
       "model_id": "e80e62470dd745b4838918b9a1638b1a",
       "version_major": 2,
       "version_minor": 0
      },
      "text/plain": [
       "Evaluating:   0%|          | 0/1 [00:00<?, ?it/s]"
      ]
     },
     "metadata": {},
     "output_type": "display_data"
    }
   ],
   "source": [
    "loss_fn    = torch.nn.BCEWithLogitsLoss()\n",
    "all_logits = []\n",
    "all_labels = []\n",
    "total_loss = 0.0\n",
    "\n",
    "for batch in tqdm(dataloader, desc=\"Evaluating\"):\n",
    "    input_ids      = batch[\"input_ids\"].to(device)\n",
    "    attention_mask = batch[\"attention_mask\"].to(device)\n",
    "    labels         = batch[\"labels\"].to(device)\n",
    "    labels = labels.float()\n",
    "    with torch.no_grad():\n",
    "        logits = model(input_ids=input_ids, attention_mask=attention_mask).logits\n",
    "        # loss   = loss_fn(logits, labels)\n",
    "\n",
    "    # total_loss += loss.item()\n",
    "    all_logits.append(logits.cpu().numpy())\n",
    "    all_labels.append(labels.cpu().numpy())"
   ]
  },
  {
   "cell_type": "code",
   "execution_count": 34,
   "id": "6728be64",
   "metadata": {},
   "outputs": [],
   "source": [
    "# stack arrays\n",
    "all_logits = np.vstack(all_logits)\n",
    "all_labels = np.vstack(all_labels)\n",
    "probs      = torch.sigmoid(torch.tensor(all_logits)).numpy()\n",
    "preds      = (probs >= 0.5).astype(int)\n"
   ]
  },
  {
   "cell_type": "code",
   "execution_count": 37,
   "id": "d0321e85",
   "metadata": {},
   "outputs": [],
   "source": [
    "# Element‑wise accuracy\n",
    "elementwise_acc = accuracy_score(all_labels.flatten(), preds.flatten())\n",
    "\n",
    "# Exact‑match (subset) accuracy\n",
    "subset_acc = np.mean(np.all(all_labels == preds, axis=1))\n",
    "\n",
    "# Hamming loss\n",
    "hamming = hamming_loss(all_labels, preds)\n",
    "\n",
    "# F1\n",
    "f1_micro = f1_score(all_labels, preds, average=\"micro\", zero_division=0)\n",
    "f1_macro = f1_score(all_labels, preds, average=\"macro\", zero_division=0)\n",
    "\n",
    "# # ROC-AUC\n",
    "# roc_micro = roc_auc_score(all_labels, probs, average=\"micro\")\n",
    "# roc_macro = roc_auc_score(all_labels, probs, average=\"macro\")\n",
    "\n",
    "# Log loss\n",
    "lloss = log_loss(all_labels.ravel(), probs.ravel())\n",
    "\n",
    "# Brier score\n",
    "brier = brier_score_loss(all_labels.ravel(), probs.ravel())"
   ]
  },
  {
   "cell_type": "code",
   "execution_count": 38,
   "id": "db42c02d",
   "metadata": {},
   "outputs": [],
   "source": [
    "# Per-class ECE\n",
    "def per_class_ece(probs, labels, n_bins=15):\n",
    "    edges = np.linspace(0.0, 1.0, n_bins+1)\n",
    "    eces  = []\n",
    "    for c in range(labels.shape[1]):\n",
    "        conf = probs[:, c]\n",
    "        true = labels[:, c]\n",
    "        ece_c = 0.0\n",
    "        for i in range(n_bins):\n",
    "            lo, hi = edges[i], edges[i+1]\n",
    "            mask = (conf > lo) & (conf <= hi)\n",
    "            if mask.any():\n",
    "                acc_in  = true[mask].mean()\n",
    "                conf_in = conf[mask].mean()\n",
    "                ece_c  += np.abs(acc_in - conf_in) * mask.mean()\n",
    "        eces.append(ece_c)\n",
    "    return np.array(eces)"
   ]
  },
  {
   "cell_type": "code",
   "execution_count": 39,
   "id": "5bc85068",
   "metadata": {},
   "outputs": [],
   "source": [
    "eces     = per_class_ece(probs, all_labels)\n",
    "mean_ece = eces.mean()"
   ]
  },
  {
   "cell_type": "code",
   "execution_count": 40,
   "id": "e799cf6a",
   "metadata": {},
   "outputs": [
    {
     "name": "stdout",
     "output_type": "stream",
     "text": [
      "Avg Loss:            0.0000\n",
      "Element-wise Acc:    0.9721\n",
      "Subset Exact Acc:    0.5000\n",
      "Hamming Loss:        0.0279\n",
      "Brier Score:         0.0233\n",
      "F1 (micro):          0.6154\n",
      "F1 (macro):          0.2444\n",
      "Mean ECE:            0.0340\n"
     ]
    }
   ],
   "source": [
    "print(f\"Avg Loss:            {total_loss/len(dataloader):.4f}\")\n",
    "print(f\"Element-wise Acc:    {elementwise_acc:.4f}\")\n",
    "print(f\"Subset Exact Acc:    {subset_acc:.4f}\")\n",
    "print(f\"Hamming Loss:        {hamming:.4f}\")\n",
    "print(f\"Brier Score:         {brier:.4f}\")\n",
    "print(f\"F1 (micro):          {f1_micro:.4f}\")\n",
    "print(f\"F1 (macro):          {f1_macro:.4f}\")\n",
    "# print(f\"ROC AUC (micro):     {roc_micro:.4f}\")\n",
    "# print(f\"ROC AUC (macro):     {roc_macro:.4f}\")\n",
    "# print(f\"Log Loss:            {lloss:.4f}\")\n",
    "print(f\"Mean ECE:            {mean_ece:.4f}\")"
   ]
  }
 ],
 "metadata": {
  "kernelspec": {
   "display_name": "BayesLLM",
   "language": "python",
   "name": "python3"
  },
  "language_info": {
   "codemirror_mode": {
    "name": "ipython",
    "version": 3
   },
   "file_extension": ".py",
   "mimetype": "text/x-python",
   "name": "python",
   "nbconvert_exporter": "python",
   "pygments_lexer": "ipython3",
   "version": "3.13.2"
  }
 },
 "nbformat": 4,
 "nbformat_minor": 5
}
